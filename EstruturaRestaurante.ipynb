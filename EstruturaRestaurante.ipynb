{
  "nbformat": 4,
  "nbformat_minor": 0,
  "metadata": {
    "colab": {
      "provenance": [],
      "toc_visible": true,
      "authorship_tag": "ABX9TyNDCOYCR1kC8YdwcHJ2U0Za",
      "include_colab_link": true
    },
    "kernelspec": {
      "name": "python3",
      "display_name": "Python 3"
    },
    "language_info": {
      "name": "python"
    }
  },
  "cells": [
    {
      "cell_type": "markdown",
      "metadata": {
        "id": "view-in-github",
        "colab_type": "text"
      },
      "source": [
        "<a href=\"https://colab.research.google.com/github/BetoPRodrigues/Python/blob/main/EstruturaRestaurante.ipynb\" target=\"_parent\"><img src=\"https://colab.research.google.com/assets/colab-badge.svg\" alt=\"Open In Colab\"/></a>"
      ]
    },
    {
      "cell_type": "markdown",
      "source": [
        "# Nova seção\n",
        "import pandas as pd\n",
        "import random\n",
        "from datetime import datetime, timedelta\n",
        "\n",
        "# Carregue o menu_items\n",
        "menu_items = pd.read_csv('menu_items.csv', delimiter=';', decimal=',')\n",
        "\n",
        "# Parâmetros para gerar os dados\n",
        "num_orders = 50000  # Número de pedidos\n",
        "items_por_pedido = [1, 2, 3]  # Quantidade de itens por pedido\n",
        "\n",
        "# Inicializar lista de resultados\n",
        "dados = []\n",
        "order_details_id = 1\n",
        "order_id = 1\n",
        "data_inicio = datetime(2023, 1, 1)\n",
        "\n",
        "for _ in range(num_orders):\n",
        "    data_pedido = data_inicio + timedelta(days=random.randint(0, 729))  # até o final de 2024\n",
        "    hora = datetime.strptime(f\"{random.randint(10, 23)}:{random.randint(0,59)}:{random.randint(0,59)}\", \"%H:%M:%S\")\n",
        "    hora_formatada = hora.strftime(\"%I:%M:%S %p\")\n",
        "    n_itens = random.choice(items_por_pedido)\n",
        "    \n",
        "    for _ in range(n_itens):\n",
        "        item_id = random.choice(menu_items['menu_item_id'].tolist())\n",
        "        dados.append({\n",
        "            'order_details_id': order_details_id,\n",
        "            'order_id': order_id,\n",
        "            'order_date': data_pedido.strftime(\"%d/%m/%Y\"),\n",
        "            'order_time': hora_formatada,\n",
        "            'item_id': item_id\n",
        "        })\n",
        "        order_details_id += 1\n",
        "    order_id += 1\n",
        "\n",
        "# Criar DataFrame e salvar\n",
        "df_ficticio = pd.DataFrame(dados)\n",
        "df_ficticio.to_csv('order_details_fake.csv', sep=';', index=False)"
      ],
      "metadata": {
        "id": "1wJQKSmyK8LR"
      }
    },
    {
      "cell_type": "code",
      "source": [
        "import pandas as pd\n",
        "import random\n",
        "from datetime import datetime, timedelta\n",
        "\n",
        "# Carregue o menu_items\n",
        "menu_items = pd.read_csv('menu_items.csv', delimiter=';', decimal=',')\n",
        "\n",
        "# Parâmetros para gerar os dados\n",
        "num_orders = 10000  # Número de pedidos\n",
        "items_por_pedido = [1, 2, 3, 4]  # Quantidade de itens por pedido\n",
        "\n",
        "# Inicializar lista de resultados\n",
        "dados = []\n",
        "order_details_id = 1\n",
        "order_id = 1\n",
        "data_inicio = datetime(2021, 1, 1)\n",
        "\n",
        "for _ in range(num_orders):\n",
        "    data_pedido = data_inicio + timedelta(days=random.randint(0, 1458))  # até o final de 2024\n",
        "    hora = datetime.strptime(f\"{random.randint(10, 23)}:{random.randint(0,59)}:{random.randint(0,59)}\", \"%H:%M:%S\")\n",
        "    hora_formatada = hora.strftime(\"%I:%M:%S %p\")\n",
        "    n_itens = random.choice(items_por_pedido)\n",
        "    atendente = random.choice([3])  # Novo campo\n",
        "\n",
        "    for _ in range(n_itens):\n",
        "        item_id = random.choice(menu_items['menu_item_id'].tolist())\n",
        "        dados.append({\n",
        "            'ordem_detalhe_id': order_details_id,\n",
        "            'ordem_id': order_id,\n",
        "            'ordem_data': data_pedido.strftime(\"%d/%m/%Y\"),\n",
        "            'ordem_hora': hora_formatada,\n",
        "            'item_id': item_id,\n",
        "            'atendente': atendente\n",
        "        })\n",
        "        order_details_id += 1\n",
        "    order_id += 1\n",
        "\n",
        "# Criar DataFrame e salvar\n",
        "df_ficticio = pd.DataFrame(dados)\n",
        "df_ficticio.to_csv('order_details_fake3.csv', sep=';', index=False)"
      ],
      "metadata": {
        "id": "plMXtE8XMOmi"
      },
      "execution_count": null,
      "outputs": []
    }
  ]
}