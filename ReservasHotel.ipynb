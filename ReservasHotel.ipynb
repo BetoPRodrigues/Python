{
  "nbformat": 4,
  "nbformat_minor": 0,
  "metadata": {
    "colab": {
      "provenance": [],
      "authorship_tag": "ABX9TyMAo8vc0ak3TWj7ozaAtZK1",
      "include_colab_link": true
    },
    "kernelspec": {
      "name": "python3",
      "display_name": "Python 3"
    },
    "language_info": {
      "name": "python"
    }
  },
  "cells": [
    {
      "cell_type": "markdown",
      "metadata": {
        "id": "view-in-github",
        "colab_type": "text"
      },
      "source": [
        "<a href=\"https://colab.research.google.com/github/BetoPRodrigues/Python/blob/main/ReservasHotel.ipynb\" target=\"_parent\"><img src=\"https://colab.research.google.com/assets/colab-badge.svg\" alt=\"Open In Colab\"/></a>"
      ]
    },
    {
      "cell_type": "code",
      "execution_count": 1,
      "metadata": {
        "colab": {
          "base_uri": "https://localhost:8080/"
        },
        "id": "vnC2NRAuabRC",
        "outputId": "530048c1-2dfa-45d6-eb17-64a92b2e18e6"
      },
      "outputs": [
        {
          "output_type": "stream",
          "name": "stdout",
          "text": [
            "Arquivo 'reservas.csv' gerado com sucesso!\n"
          ]
        }
      ],
      "source": [
        "import csv\n",
        "import random\n",
        "from datetime import datetime, timedelta\n",
        "\n",
        "# Parâmetros\n",
        "num_registros = 150000\n",
        "acomodacoes_ids = [1, 2, 3, 4]  # IDs das acomodações\n",
        "evento_ids = [1, 2, 3, None]    # Eventos possíveis (None = sem evento)\n",
        "status_pagamento_choices = ['Pago', 'Pendente', 'Cancelado']\n",
        "status_weights = [0.85, 0.10, 0.05]  # Probabilidades para status\n",
        "\n",
        "# Função para gerar data aleatória entre intervalo\n",
        "def random_date(start, end):\n",
        "    delta = end - start\n",
        "    random_days = random.randint(0, delta.days)\n",
        "    return start + timedelta(days=random_days)\n",
        "\n",
        "# Função para calcular valor total com sobretaxa finais de semana\n",
        "def calcular_valor_total(data_inicio, data_fim, valor_base_diaria):\n",
        "    total = 0\n",
        "    dia_atual = data_inicio\n",
        "    while dia_atual < data_fim:\n",
        "        if dia_atual.weekday() >= 5:  # Sábado=5, Domingo=6\n",
        "            total += valor_base_diaria * 1.2\n",
        "        else:\n",
        "            total += valor_base_diaria\n",
        "        dia_atual += timedelta(days=1)\n",
        "    return round(total, 2)\n",
        "\n",
        "# Valores base diários simulados por tipo de acomodação\n",
        "valor_base_por_acomodacao = {\n",
        "    1: 1200.00,  # Suíte Presidencial\n",
        "    2: 900.00,   # Suíte\n",
        "    3: 700.00,   # Apartamento Superior\n",
        "    4: 500.00    # Apartamento Standard\n",
        "}\n",
        "\n",
        "# Período para gerar reservas\n",
        "data_inicio_geracao = datetime(2024, 1, 1)\n",
        "data_fim_geracao = datetime(2025, 12, 31)\n",
        "\n",
        "# Gerar arquivo CSV\n",
        "with open('reservas.csv', mode='w', newline='', encoding='utf-8') as arquivo_csv:\n",
        "    escritor = csv.writer(arquivo_csv)\n",
        "    # Cabeçalho\n",
        "    escritor.writerow([\n",
        "        'ReservaID', 'AcomodacaoID', 'DataCheckIn', 'DataCheckOut',\n",
        "        'ValorBaseDiaria', 'ValorTotal', 'StatusPagamento', 'EventoID'\n",
        "    ])\n",
        "\n",
        "    for reserva_id in range(1, num_registros + 1):\n",
        "        acomodacao_id = random.choice(acomodacoes_ids)\n",
        "        valor_base = valor_base_por_acomodacao[acomodacao_id]\n",
        "\n",
        "        # Gerar datas de check-in e check-out (estadia entre 1 e 10 dias)\n",
        "        checkin = random_date(data_inicio_geracao, data_fim_geracao - timedelta(days=10))\n",
        "        estadia_dias = random.randint(1, 10)\n",
        "        checkout = checkin + timedelta(days=estadia_dias)\n",
        "\n",
        "        # Calcular valor total com sobretaxa finais de semana\n",
        "        valor_total = calcular_valor_total(checkin, checkout, valor_base)\n",
        "\n",
        "        # Status de pagamento com probabilidades\n",
        "        status_pagamento = random.choices(status_pagamento_choices, weights=status_weights, k=1)[0]\n",
        "\n",
        "        # Evento vinculado (20% das reservas vinculadas a evento)\n",
        "        evento_id = random.choices(evento_ids, weights=[0.07, 0.07, 0.06, 0.8], k=1)[0]\n",
        "\n",
        "        escritor.writerow([\n",
        "            reserva_id,\n",
        "            acomodacao_id,\n",
        "            checkin.strftime('%Y-%m-%d'),\n",
        "            checkout.strftime('%Y-%m-%d'),\n",
        "            round(valor_base, 2),\n",
        "            valor_total,\n",
        "            status_pagamento,\n",
        "            evento_id if evento_id is not None else ''\n",
        "        ])\n",
        "\n",
        "print(\"Arquivo 'Reserva.csv' gerado com sucesso!\")\n"
      ]
    }
  ]
}