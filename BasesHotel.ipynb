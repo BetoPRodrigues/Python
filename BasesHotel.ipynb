{
  "nbformat": 4,
  "nbformat_minor": 0,
  "metadata": {
    "colab": {
      "provenance": [],
      "authorship_tag": "ABX9TyN3HRAUlP8mALG9BVendQLY",
      "include_colab_link": true
    },
    "kernelspec": {
      "name": "python3",
      "display_name": "Python 3"
    },
    "language_info": {
      "name": "python"
    }
  },
  "cells": [
    {
      "cell_type": "markdown",
      "metadata": {
        "id": "view-in-github",
        "colab_type": "text"
      },
      "source": [
        "<a href=\"https://colab.research.google.com/github/BetoPRodrigues/Python/blob/main/BasesHotel.ipynb\" target=\"_parent\"><img src=\"https://colab.research.google.com/assets/colab-badge.svg\" alt=\"Open In Colab\"/></a>"
      ]
    },
    {
      "cell_type": "code",
      "source": [
        "#Acomodacoes\n",
        "import csv\n",
        "\n",
        "acomodacoes = [ [1, \"Suite Presidencial\", \"46m2\", 2, \"TV, internet, banheira\"], [2, \"Suite\", \"46m2\", 2, \"TV, internet, banheira\"], [3, \"Apartamento Superior\", \"32m2\", 2, \"TV, internet\"], [4, \"Apartamento Standard\", \"32m2\", 2, \"TV, internet\"], ]\n",
        "\n",
        "with open('acomodacao.csv', 'w', newline='', encoding='utf-8') as f:\n",
        "    writer = csv.writer(f)\n",
        "    writer.writerow(['AcomodacaoID', 'Tipo', 'Tamanho', 'Capacidade', 'Amenidades'])\n",
        "    writer.writerows(acomodacoes)"
      ],
      "metadata": {
        "id": "toYscCHhkODF"
      },
      "execution_count": 6,
      "outputs": []
    },
    {
      "cell_type": "code",
      "source": [
        "#Espaco de Eventos\n",
        "import csv\n",
        "espacos = [ [1, \"Salão Nobre\", 300, \"Equip. híbrido/virtual\"], [2, \"Plaza Studio\", 100, \"Equip. multimídia\"], [3, \"Sala de Reunião\", 40, \"Projetor, som\"], ]\n",
        "\n",
        "import csv\n",
        "with open('espacoevento.csv', 'w', newline='', encoding='utf-8') as f:\n",
        "    writer = csv.writer(f)\n",
        "    writer.writerow(['EspacoID', 'Nome', 'Capacidade', 'RecursosTecnicos'])\n",
        "    writer.writerows(espacos)"
      ],
      "metadata": {
        "id": "u_xj94FukgPt"
      },
      "execution_count": 8,
      "outputs": []
    },
    {
      "cell_type": "code",
      "source": [
        "#Evento\n",
        "import random\n",
        "from datetime import datetime, timedelta\n",
        "import csv\n",
        "\n",
        "tipos_evento = [\"Corporativo\", \"Casamento\", \"Congresso\", \"Treinamento\"]\n",
        "eventos = []\n",
        "for eid in range(1, 101): # 100 eventos\n",
        "    tipo = random.choice(tipos_evento)\n",
        "    data_inicio = datetime(2024, 1, 1) + timedelta(days=random.randint(0, 700))\n",
        "    duracao = random.randint(1, 4)\n",
        "    data_fim = data_inicio + timedelta(days=duracao)\n",
        "    espacoid = random.randint(1, 3)\n",
        "    custo = random.randint(3000, 20000)\n",
        "    eventos.append([eid, tipo, data_inicio.strftime('%Y-%m-%d'), data_fim.strftime('%Y-%m-%d'), espacoid, custo])\n",
        "\n",
        "with open('evento.csv', 'w', newline='', encoding='utf-8') as f:\n",
        "    writer = csv.writer(f)\n",
        "    writer.writerow(['EventoID', 'Tipo', 'DataInicio', 'DataFim', 'EspacoID', 'CustoLocacao'])\n",
        "#Evento\n",
        "import random\n",
        "from datetime import datetime, timedelta\n",
        "import csv\n",
        "\n",
        "tipos_evento = [\"Corporativo\", \"Casamento\", \"Congresso\", \"Treinamento\"]\n",
        "eventos = []\n",
        "for eid in range(1, 101): # 100 eventos\n",
        "    tipo = random.choice(tipos_evento)\n",
        "    data_inicio = datetime(2024, 1, 1) + timedelta(days=random.randint(0, 700))\n",
        "    duracao = random.randint(1, 4)\n",
        "    data_fim = data_inicio + timedelta(days=duracao)\n",
        "    espacoid = random.randint(1, 3)\n",
        "    custo = random.randint(3000, 20000)\n",
        "    eventos.append([eid, tipo, data_inicio.strftime('%Y-%m-%d'), data_fim.strftime('%Y-%m-%d'), espacoid, custo])\n",
        "\n",
        "with open('evento.csv', 'w', newline='', encoding='utf-8') as f:\n",
        "    writer = csv.writer(f)\n",
        "    writer.writerow(['EventoID', 'Tipo', 'DataInicio', 'DataFim', 'EspacoID', 'CustoLocacao'])\n",
        "    writer.writerows(eventos)\n",
        "\n",
        "with open('evento.csv', 'w', newline='', encoding='utf-8') as f:\n",
        "    writer = csv.writer(f)\n",
        "    writer.writerow(['EventoID', 'Tipo', 'DataInicio', 'DataFim', 'EspacoID', 'CustoLocacao'])\n",
        "    writer.writerows(eventos)"
      ],
      "metadata": {
        "id": "rRmaq-b6kk1O"
      },
      "execution_count": 12,
      "outputs": []
    },
    {
      "cell_type": "code",
      "source": [
        "#Calendario\n",
        "#Calendario\n",
        "from datetime import date, timedelta\n",
        "import csv\n",
        "\n",
        "start_date = date(2024, 1, 1)\n",
        "end_date = date(2025, 12, 31)\n",
        "delta = end_date - start_date\n",
        "\n",
        "with open('calendario.csv', 'w', newline='', encoding='utf-8') as f:\n",
        "    writer = csv.writer(f)\n",
        "    writer.writerow(['Data', 'Ano', 'Mes', 'Trimestre', 'DiaSemana', 'FimDeSemana', 'Feriado'])\n",
        "    for i in range(delta.days + 1):\n",
        "        d = start_date + timedelta(days=i)\n",
        "        fim_de_semana = 'Sim' if d.weekday() >= 5 else 'Não'\n",
        "        writer.writerow([ d.strftime('%Y-%m-%d'), d.year, d.month, (d.month - 1) // 3 + 1, d.isoweekday(), fim_de_semana, 'Não' ]) # ajuste manual para feriados"
      ],
      "metadata": {
        "id": "fIVewnaUkp99"
      },
      "execution_count": 15,
      "outputs": []
    },
    {
      "cell_type": "code",
      "execution_count": 17,
      "metadata": {
        "colab": {
          "base_uri": "https://localhost:8080/"
        },
        "id": "vnC2NRAuabRC",
        "outputId": "ceef9f2d-c363-4567-a341-abfab401a1a3"
      },
      "outputs": [
        {
          "output_type": "stream",
          "name": "stdout",
          "text": [
            "Arquivo 'Reserva.csv' gerado com sucesso!\n"
          ]
        }
      ],
      "source": [
        "# Reserva\n",
        "import csv\n",
        "import random\n",
        "from datetime import datetime, timedelta\n",
        "\n",
        "# Parâmetros\n",
        "num_registros = 150000\n",
        "acomodacoes_ids = [1, 2, 3, 4]  # IDs das acomodações\n",
        "evento_ids = [1, 2, 3, None]    # Eventos possíveis (None = sem evento)\n",
        "status_pagamento_choices = ['Pago', 'Pendente', 'Cancelado']\n",
        "status_weights = [0.85, 0.10, 0.05]  # Probabilidades para status\n",
        "\n",
        "# Função para gerar data aleatória entre intervalo\n",
        "def random_date(start, end):\n",
        "    delta = end - start\n",
        "    random_days = random.randint(0, delta.days)\n",
        "    return start + timedelta(days=random_days)\n",
        "\n",
        "# Função para calcular valor total com sobretaxa finais de semana\n",
        "def calcular_valor_total(data_inicio, data_fim, valor_base_diaria):\n",
        "    total = 0\n",
        "    dia_atual = data_inicio\n",
        "    while dia_atual < data_fim:\n",
        "        if dia_atual.weekday() >= 5:  # Sábado=5, Domingo=6\n",
        "            total += valor_base_diaria * 1.2\n",
        "        else:\n",
        "            total += valor_base_diaria\n",
        "        dia_atual += timedelta(days=1)\n",
        "    return round(total, 2)\n",
        "\n",
        "# Valores base diários simulados por tipo de acomodação\n",
        "valor_base_por_acomodacao = {\n",
        "    1: 1200.00,  # Suíte Presidencial\n",
        "    2: 900.00,   # Suíte\n",
        "    3: 700.00,   # Apartamento Superior\n",
        "    4: 500.00    # Apartamento Standard\n",
        "}\n",
        "\n",
        "# Período para gerar reservas\n",
        "data_inicio_geracao = datetime(2024, 1, 1)\n",
        "data_fim_geracao = datetime(2025, 12, 31)\n",
        "\n",
        "# Gerar arquivo CSV\n",
        "with open('reservas.csv', mode='w', newline='', encoding='utf-8') as arquivo_csv:\n",
        "    escritor = csv.writer(arquivo_csv)\n",
        "    # Cabeçalho\n",
        "    escritor.writerow([\n",
        "        'ReservaID', 'AcomodacaoID', 'DataCheckIn', 'DataCheckOut',\n",
        "        'ValorBaseDiaria', 'ValorTotal', 'StatusPagamento', 'EventoID'\n",
        "    ])\n",
        "\n",
        "    for reserva_id in range(1, num_registros + 1):\n",
        "        acomodacao_id = random.choice(acomodacoes_ids)\n",
        "        valor_base = valor_base_por_acomodacao[acomodacao_id]\n",
        "\n",
        "        # Gerar datas de check-in e check-out (estadia entre 1 e 10 dias)\n",
        "        checkin = random_date(data_inicio_geracao, data_fim_geracao - timedelta(days=10))\n",
        "        estadia_dias = random.randint(1, 10)\n",
        "        checkout = checkin + timedelta(days=estadia_dias)\n",
        "\n",
        "        # Calcular valor total com sobretaxa finais de semana\n",
        "        valor_total = calcular_valor_total(checkin, checkout, valor_base)\n",
        "\n",
        "        # Status de pagamento com probabilidades\n",
        "        status_pagamento = random.choices(status_pagamento_choices, weights=status_weights, k=1)[0]\n",
        "\n",
        "        # Evento vinculado (20% das reservas vinculadas a evento)\n",
        "        evento_id = random.choices(evento_ids, weights=[0.07, 0.07, 0.06, 0.8], k=1)[0]\n",
        "\n",
        "        escritor.writerow([\n",
        "            reserva_id,\n",
        "            acomodacao_id,\n",
        "            checkin.strftime('%Y-%m-%d'),\n",
        "            checkout.strftime('%Y-%m-%d'),\n",
        "            round(valor_base, 2),\n",
        "            valor_total,\n",
        "            status_pagamento,\n",
        "            evento_id if evento_id is not None else ''\n",
        "        ])\n",
        "\n",
        "print(\"Arquivo 'Reserva.csv' gerado com sucesso!\")\n"
      ]
    }
  ]
}